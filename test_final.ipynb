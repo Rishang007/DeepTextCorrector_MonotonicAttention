{
 "cells": [
  {
   "cell_type": "code",
   "execution_count": 1,
   "metadata": {
    "executionInfo": {
     "elapsed": 1397,
     "status": "ok",
     "timestamp": 1615809474745,
     "user": {
      "displayName": "Tiku Work",
      "photoUrl": "",
      "userId": "02665959882814034002"
     },
     "user_tz": -330
    },
    "id": "b5jgX2T4voCQ"
   },
   "outputs": [],
   "source": [
    "import sys\n",
    "sys.path.append('C:/Users/rpris/OneDrive/Desktop')"
   ]
  },
  {
   "cell_type": "code",
   "execution_count": 2,
   "metadata": {
    "executionInfo": {
     "elapsed": 5215,
     "status": "ok",
     "timestamp": 1615809487309,
     "user": {
      "displayName": "Tiku Work",
      "photoUrl": "",
      "userId": "02665959882814034002"
     },
     "user_tz": -330
    },
    "id": "doURjK9JvyhO"
   },
   "outputs": [],
   "source": [
    "import model"
   ]
  },
  {
   "cell_type": "code",
   "execution_count": 3,
   "metadata": {
    "executionInfo": {
     "elapsed": 1238,
     "status": "ok",
     "timestamp": 1615809517539,
     "user": {
      "displayName": "Tiku Work",
      "photoUrl": "",
      "userId": "02665959882814034002"
     },
     "user_tz": -330
    },
    "id": "7Lgi_A1MwJBT"
   },
   "outputs": [],
   "source": [
    "#embedding_matrix_path = '/content/drive/MyDrive/Project_2/embedding_matrix.pkl'\n",
    "embedding_matrix_path = 'C:/Users/rpris/OneDrive/Desktop/Project_2/embedding_matrix.pkl'\n",
    "embedding_matrix_per_path = 'C:/Users/rpris/OneDrive/Desktop/Project_2/embedding_matrix_per.pkl'\n",
    "\n",
    "token_perturbation_path = 'C:/Users/rpris/OneDrive/Desktop/Project_2/token_perturbation-reg.pkl'\n",
    "token_correct_path = 'C:/Users/rpris/OneDrive/Desktop/Project_2/token_correct-reg.pkl'\n",
    "\n",
    "weights_path = 'C:/Users/rpris/OneDrive/Desktop/Project_2/wts/attention/weights-21-0.2798.hdf5'"
   ]
  },
  {
   "cell_type": "code",
   "execution_count": 5,
   "metadata": {
    "executionInfo": {
     "elapsed": 15459,
     "status": "ok",
     "timestamp": 1615809558849,
     "user": {
      "displayName": "Tiku Work",
      "photoUrl": "",
      "userId": "02665959882814034002"
     },
     "user_tz": -330
    },
    "id": "mO8jBn85wA02"
   },
   "outputs": [],
   "source": [
    "test = model.model_att(embedding_matrix_path, embedding_matrix_per_path, token_perturbation_path, token_correct_path,\n",
    "                       weights_path)"
   ]
  },
  {
   "cell_type": "code",
   "execution_count": 6,
   "metadata": {
    "colab": {
     "base_uri": "https://localhost:8080/",
     "height": 290
    },
    "executionInfo": {
     "elapsed": 1235,
     "status": "error",
     "timestamp": 1615809561610,
     "user": {
      "displayName": "Tiku Work",
      "photoUrl": "",
      "userId": "02665959882814034002"
     },
     "user_tz": -330
    },
    "id": "oLO-vr6SwGJf",
    "outputId": "aed1873d-6769-4ddd-d194-f63c58a19604"
   },
   "outputs": [
    {
     "output_type": "execute_result",
     "data": {
      "text/plain": [
       "'ERROR!! - Please pass the input as a list of strings'"
      ]
     },
     "metadata": {},
     "execution_count": 6
    }
   ],
   "source": [
    "test.predict('i have pen')"
   ]
  },
  {
   "cell_type": "code",
   "execution_count": 8,
   "metadata": {},
   "outputs": [
    {
     "output_type": "execute_result",
     "data": {
      "text/plain": [
       "['i have a pen', 'i am going to the hospital']"
      ]
     },
     "metadata": {},
     "execution_count": 8
    }
   ],
   "source": [
    "test.predict(['i have pen','i am going to hospital'])"
   ]
  },
  {
   "cell_type": "code",
   "execution_count": null,
   "metadata": {},
   "outputs": [],
   "source": []
  }
 ],
 "metadata": {
  "colab": {
   "authorship_tag": "ABX9TyOZ9W+Slcy50Fn7Vt0eOTNN",
   "mount_file_id": "1yVi4d7C-6fX-epz-d9VRUNhJ4W_7G5M2",
   "name": "Untitled0.ipynb",
   "provenance": []
  },
  "kernelspec": {
   "display_name": "Python 3",
   "language": "python",
   "name": "python3"
  },
  "language_info": {
   "codemirror_mode": {
    "name": "ipython",
    "version": 3
   },
   "file_extension": ".py",
   "mimetype": "text/x-python",
   "name": "python",
   "nbconvert_exporter": "python",
   "pygments_lexer": "ipython3",
   "version": "3.7.5-final"
  }
 },
 "nbformat": 4,
 "nbformat_minor": 1
}